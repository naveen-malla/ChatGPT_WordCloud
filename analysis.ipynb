{
 "cells": [
  {
   "cell_type": "code",
   "execution_count": 1,
   "metadata": {},
   "outputs": [],
   "source": [
    "# this script is used to Build a word cloud of most used words and phrases by ChatGPT along with some cool visualizations"
   ]
  },
  {
   "cell_type": "code",
   "execution_count": 5,
   "metadata": {},
   "outputs": [],
   "source": [
    "import pandas as pd"
   ]
  },
  {
   "cell_type": "code",
   "execution_count": 7,
   "metadata": {},
   "outputs": [],
   "source": [
    "df = pd.read_excel('data/ieee-chatgpt-generation.xlsx')\n",
    "df.to_csv('data.csv', index=False)"
   ]
  },
  {
   "cell_type": "code",
   "execution_count": 9,
   "metadata": {},
   "outputs": [
    {
     "data": {
      "text/html": [
       "<div>\n",
       "<style scoped>\n",
       "    .dataframe tbody tr th:only-of-type {\n",
       "        vertical-align: middle;\n",
       "    }\n",
       "\n",
       "    .dataframe tbody tr th {\n",
       "        vertical-align: top;\n",
       "    }\n",
       "\n",
       "    .dataframe thead th {\n",
       "        text-align: right;\n",
       "    }\n",
       "</style>\n",
       "<table border=\"1\" class=\"dataframe\">\n",
       "  <thead>\n",
       "    <tr style=\"text-align: right;\">\n",
       "      <th></th>\n",
       "      <th>Unnamed: 0.1</th>\n",
       "      <th>Unnamed: 0</th>\n",
       "      <th>id</th>\n",
       "      <th>title</th>\n",
       "      <th>keyword</th>\n",
       "      <th>abstract</th>\n",
       "    </tr>\n",
       "  </thead>\n",
       "  <tbody>\n",
       "    <tr>\n",
       "      <th>0</th>\n",
       "      <td>0</td>\n",
       "      <td>0</td>\n",
       "      <td>8600003</td>\n",
       "      <td>An Improved Variable-Node-Based BP Decoding Al...</td>\n",
       "      <td>\"Flash memories\",\"Reliability\",\"Decoding\",\"Par...</td>\n",
       "      <td>The reliability of flash memories is highly de...</td>\n",
       "    </tr>\n",
       "    <tr>\n",
       "      <th>1</th>\n",
       "      <td>1</td>\n",
       "      <td>1</td>\n",
       "      <td>8600004</td>\n",
       "      <td>Mobile Robot Location Algorithm Based on Impro...</td>\n",
       "      <td>\"Sociology\",\"Statistics\",\"Simultaneous localiz...</td>\n",
       "      <td>This paper proposes an improved particle filte...</td>\n",
       "    </tr>\n",
       "    <tr>\n",
       "      <th>2</th>\n",
       "      <td>2</td>\n",
       "      <td>2</td>\n",
       "      <td>8600008</td>\n",
       "      <td>Vertical Handoff Decision Algorithm for Hetero...</td>\n",
       "      <td>\"Entropy\",\"Handover\",\"Wireless networks\",\"Deci...</td>\n",
       "      <td>This paper proposes a novel algorithm for vert...</td>\n",
       "    </tr>\n",
       "    <tr>\n",
       "      <th>3</th>\n",
       "      <td>3</td>\n",
       "      <td>3</td>\n",
       "      <td>8600013</td>\n",
       "      <td>Robust offline trained neural network for TDOA...</td>\n",
       "      <td>\"Microphones\",\"Artificial neural networks\",\"Po...</td>\n",
       "      <td>This paper proposes a robust offline trained n...</td>\n",
       "    </tr>\n",
       "    <tr>\n",
       "      <th>4</th>\n",
       "      <td>4</td>\n",
       "      <td>4</td>\n",
       "      <td>8600014</td>\n",
       "      <td>Gaussian MAC with Feedback and Strictly Causal...</td>\n",
       "      <td>\"Encoding\",\"Transmitters\",\"Decoding\",\"Indexes\"...</td>\n",
       "      <td>This paper proposes a method for encoding and ...</td>\n",
       "    </tr>\n",
       "  </tbody>\n",
       "</table>\n",
       "</div>"
      ],
      "text/plain": [
       "   Unnamed: 0.1  Unnamed: 0       id  \\\n",
       "0             0           0  8600003   \n",
       "1             1           1  8600004   \n",
       "2             2           2  8600008   \n",
       "3             3           3  8600013   \n",
       "4             4           4  8600014   \n",
       "\n",
       "                                               title  \\\n",
       "0  An Improved Variable-Node-Based BP Decoding Al...   \n",
       "1  Mobile Robot Location Algorithm Based on Impro...   \n",
       "2  Vertical Handoff Decision Algorithm for Hetero...   \n",
       "3  Robust offline trained neural network for TDOA...   \n",
       "4  Gaussian MAC with Feedback and Strictly Causal...   \n",
       "\n",
       "                                             keyword  \\\n",
       "0  \"Flash memories\",\"Reliability\",\"Decoding\",\"Par...   \n",
       "1  \"Sociology\",\"Statistics\",\"Simultaneous localiz...   \n",
       "2  \"Entropy\",\"Handover\",\"Wireless networks\",\"Deci...   \n",
       "3  \"Microphones\",\"Artificial neural networks\",\"Po...   \n",
       "4  \"Encoding\",\"Transmitters\",\"Decoding\",\"Indexes\"...   \n",
       "\n",
       "                                            abstract  \n",
       "0  The reliability of flash memories is highly de...  \n",
       "1  This paper proposes an improved particle filte...  \n",
       "2  This paper proposes a novel algorithm for vert...  \n",
       "3  This paper proposes a robust offline trained n...  \n",
       "4  This paper proposes a method for encoding and ...  "
      ]
     },
     "execution_count": 9,
     "metadata": {},
     "output_type": "execute_result"
    }
   ],
   "source": [
    "df.head()"
   ]
  },
  {
   "cell_type": "code",
   "execution_count": 11,
   "metadata": {},
   "outputs": [
    {
     "data": {
      "text/html": [
       "<div>\n",
       "<style scoped>\n",
       "    .dataframe tbody tr th:only-of-type {\n",
       "        vertical-align: middle;\n",
       "    }\n",
       "\n",
       "    .dataframe tbody tr th {\n",
       "        vertical-align: top;\n",
       "    }\n",
       "\n",
       "    .dataframe thead th {\n",
       "        text-align: right;\n",
       "    }\n",
       "</style>\n",
       "<table border=\"1\" class=\"dataframe\">\n",
       "  <thead>\n",
       "    <tr style=\"text-align: right;\">\n",
       "      <th></th>\n",
       "      <th>title</th>\n",
       "      <th>keyword</th>\n",
       "      <th>abstract</th>\n",
       "    </tr>\n",
       "  </thead>\n",
       "  <tbody>\n",
       "    <tr>\n",
       "      <th>0</th>\n",
       "      <td>An Improved Variable-Node-Based BP Decoding Al...</td>\n",
       "      <td>\"Flash memories\",\"Reliability\",\"Decoding\",\"Par...</td>\n",
       "      <td>The reliability of flash memories is highly de...</td>\n",
       "    </tr>\n",
       "    <tr>\n",
       "      <th>1</th>\n",
       "      <td>Mobile Robot Location Algorithm Based on Impro...</td>\n",
       "      <td>\"Sociology\",\"Statistics\",\"Simultaneous localiz...</td>\n",
       "      <td>This paper proposes an improved particle filte...</td>\n",
       "    </tr>\n",
       "    <tr>\n",
       "      <th>2</th>\n",
       "      <td>Vertical Handoff Decision Algorithm for Hetero...</td>\n",
       "      <td>\"Entropy\",\"Handover\",\"Wireless networks\",\"Deci...</td>\n",
       "      <td>This paper proposes a novel algorithm for vert...</td>\n",
       "    </tr>\n",
       "    <tr>\n",
       "      <th>3</th>\n",
       "      <td>Robust offline trained neural network for TDOA...</td>\n",
       "      <td>\"Microphones\",\"Artificial neural networks\",\"Po...</td>\n",
       "      <td>This paper proposes a robust offline trained n...</td>\n",
       "    </tr>\n",
       "    <tr>\n",
       "      <th>4</th>\n",
       "      <td>Gaussian MAC with Feedback and Strictly Causal...</td>\n",
       "      <td>\"Encoding\",\"Transmitters\",\"Decoding\",\"Indexes\"...</td>\n",
       "      <td>This paper proposes a method for encoding and ...</td>\n",
       "    </tr>\n",
       "  </tbody>\n",
       "</table>\n",
       "</div>"
      ],
      "text/plain": [
       "                                               title  \\\n",
       "0  An Improved Variable-Node-Based BP Decoding Al...   \n",
       "1  Mobile Robot Location Algorithm Based on Impro...   \n",
       "2  Vertical Handoff Decision Algorithm for Hetero...   \n",
       "3  Robust offline trained neural network for TDOA...   \n",
       "4  Gaussian MAC with Feedback and Strictly Causal...   \n",
       "\n",
       "                                             keyword  \\\n",
       "0  \"Flash memories\",\"Reliability\",\"Decoding\",\"Par...   \n",
       "1  \"Sociology\",\"Statistics\",\"Simultaneous localiz...   \n",
       "2  \"Entropy\",\"Handover\",\"Wireless networks\",\"Deci...   \n",
       "3  \"Microphones\",\"Artificial neural networks\",\"Po...   \n",
       "4  \"Encoding\",\"Transmitters\",\"Decoding\",\"Indexes\"...   \n",
       "\n",
       "                                            abstract  \n",
       "0  The reliability of flash memories is highly de...  \n",
       "1  This paper proposes an improved particle filte...  \n",
       "2  This paper proposes a novel algorithm for vert...  \n",
       "3  This paper proposes a robust offline trained n...  \n",
       "4  This paper proposes a method for encoding and ...  "
      ]
     },
     "execution_count": 11,
     "metadata": {},
     "output_type": "execute_result"
    }
   ],
   "source": [
    "# keep id, title, keyword and abstract columns. Drop the rest\n",
    "df = df[['title', 'keyword', 'abstract']]\n",
    "df.head()"
   ]
  },
  {
   "cell_type": "code",
   "execution_count": 12,
   "metadata": {},
   "outputs": [
    {
     "data": {
      "text/plain": [
       "title       0\n",
       "keyword     0\n",
       "abstract    0\n",
       "dtype: int64"
      ]
     },
     "execution_count": 12,
     "metadata": {},
     "output_type": "execute_result"
    }
   ],
   "source": [
    "# check for null values\n",
    "df.isnull().sum()"
   ]
  },
  {
   "cell_type": "code",
   "execution_count": null,
   "metadata": {},
   "outputs": [],
   "source": []
  }
 ],
 "metadata": {
  "kernelspec": {
   "display_name": "venv",
   "language": "python",
   "name": "python3"
  },
  "language_info": {
   "codemirror_mode": {
    "name": "ipython",
    "version": 3
   },
   "file_extension": ".py",
   "mimetype": "text/x-python",
   "name": "python",
   "nbconvert_exporter": "python",
   "pygments_lexer": "ipython3",
   "version": "3.12.4"
  }
 },
 "nbformat": 4,
 "nbformat_minor": 2
}
